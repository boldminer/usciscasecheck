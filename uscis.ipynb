{
  "nbformat": 4,
  "nbformat_minor": 0,
  "metadata": {
    "colab": {
      "name": "uscis.ipynb",
      "provenance": [],
      "collapsed_sections": []
    },
    "kernelspec": {
      "name": "python3",
      "display_name": "Python 3"
    },
    "language_info": {
      "name": "python"
    }
  },
  "cells": [
    {
      "cell_type": "code",
      "metadata": {
        "id": "vH8yiCSR01Rg",
        "colab": {
          "base_uri": "https://localhost:8080/"
        },
        "outputId": "2503ba3b-5316-4449-887c-14924369eb65"
      },
      "source": [
        "from bs4 import BeautifulSoup\n",
        "import requests\n",
        "import numpy as np\n",
        "import matplotlib.pyplot as plt\n",
        "import pandas as pd\n",
        "\n",
        "start = 790\n",
        "end = 810\n",
        "big_number = \"102\"\n",
        "\n",
        "number = []\n",
        "for n in range(start,end):\n",
        "    num_str = \"WAC2090\"+ big_number + \"%03d\" % n\n",
        "    number.append(num_str)\n",
        "    \n",
        "status_tx = []\n",
        "for rec_num in number:\n",
        "    if __name__ == '__main__':\n",
        "        params={'changeLocale':'',\n",
        "                'completedActionsCurrentPage':'0',\n",
        "                'upcomingActionsCurrentPage':'0',\n",
        "                'appReceiptNum': rec_num,\n",
        "                'caseStatusSearchBtn':'CHECK STATUS'}\n",
        "        target = 'https://egov.uscis.gov/casestatus/mycasestatus.do'\n",
        "        req = requests.post(url = target, data=params)\n",
        "        html = req.text\n",
        "        bf = BeautifulSoup(html,\"lxml\")\n",
        "        texts = bf.find_all('div', class_ = 'rows text-center')\n",
        "        \n",
        "        for each in texts:\n",
        "            status = each.find_all('h1')\n",
        "            status_tx.append(status[0].text.replace('',''))\n",
        "        \n",
        "        print(rec_num,\n",
        "              #texts[0].text.replace('',''),\n",
        "              status[0].text.replace('',''))"
      ],
      "execution_count": null,
      "outputs": [
        {
          "output_type": "stream",
          "text": [
            "WAC2090102790 Fingerprint Fee Was Received\n"
          ],
          "name": "stdout"
        }
      ]
    },
    {
      "cell_type": "code",
      "metadata": {
        "id": "FwM0UTWOUPd0"
      },
      "source": [
        ""
      ],
      "execution_count": null,
      "outputs": []
    }
  ]
}